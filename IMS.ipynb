{
  "nbformat": 4,
  "nbformat_minor": 0,
  "metadata": {
    "colab": {
      "name": "IMS.ipynb",
      "provenance": []
    },
    "kernelspec": {
      "name": "python3",
      "display_name": "Python 3"
    },
    "language_info": {
      "name": "python"
    }
  },
  "cells": [
    {
      "cell_type": "code",
      "metadata": {
        "id": "E29E593JANKQ"
      },
      "source": [
        "Product_details={ 10001 : {\"itm_name\": \"Goodday Biscuit\" , \"itm_price\": 5, \"weight\" : 100,\"itm_company\":\"Goodday\",\"Quantity\":100},\n",
        "      10002 : {\"itm_name\": \"crime Biscuit\" , \"itm_price\": 5, \"weight\" : 100,\"itm_company\":\"Coco\",\"Quantity\":100},\n",
        "      10003 : {\"itm_name\": \"Britenia Biscuit\" , \"itm_price\": 25, \"weight\" : 220,\"itm_company\":\"Britenia\",\"Quantity\":50},\n",
        "      10004 : {\"itm_name\": \"Crimecraker Biscuit\" , \"itm_price\": 22, \"weight\" : 200,\"itm_company\":\"Craker\",\"Quantity\":50},\n",
        "      10005 : {\"itm_name\": \"kurkurra\" , \"itm_price\": 5, \"weight\" : 10,\"itm_company\":\"ITC\",\"Quantity\":40},\n",
        "      10006 : {\"itm_name\": \"Lays\" , \"itm_price\": 5, \"weight\" : 12,\"itm_company\":\"ITC\",\"Quantity\":40},\n",
        "      10007 : {\"itm_name\": \"Rice\" , \"itm_price\": 40, \"weight\" : 1000,\"itm_company\":\"Farmars\",\"Quantity\":500},\n",
        "      10008 : {\"itm_name\": \"India Gate Rice\" , \"itm_price\": 70, \"weight\" : 1000,\"itm_company\":\"India Gate\",\"Quantity\":100},\n",
        "      10009 : {\"itm_name\": \"Mug Dal\" , \"itm_price\": 100, \"weight\" : 1000,\"itm_company\":\"Desi\",\"Quantity\":500},\n",
        "      10010 : {\"itm_name\": \"Musur Dal\" , \"itm_price\":120, \"weight\" : 1000,\"itm_company\":\"Desi\",\"Quantity\":500},\n",
        "      10011 : {\"itm_name\": \"Arhoor Dal\" , \"itm_price\": 150, \"weight\" : 1000,\"itm_company\":\"Desi\",\"Quantity\":500},\n",
        "      10012 : {\"itm_name\": \"Whate\" , \"itm_price\": 80, \"weight\" : 1000,\"itm_company\":\"Desi\",\"Quantity\":500},\n",
        "      10013 : {\"itm_name\": \"Soyabin Oil\" , \"itm_price\": 180, \"weight\" : 1000,\"itm_company\":\"Fortune\",\"Quantity\":50},\n",
        "      10014 : {\"itm_name\": \"Rice ban Oil\" , \"itm_price\": 175, \"weight\" : 1000,\"itm_company\":\"Fortune\",\"Quantity\":100},\n",
        "      10015 : {\"itm_name\": \"Kachi ghani Oil\" , \"itm_price\":200, \"weight\" : 1000,\"itm_company\":\"Fortune\",\"Quantity\":100},\n",
        "      10016 : {\"itm_name\": \"White Flour\" , \"itm_price\": 50, \"weight\" : 1000,\"itm_company\":\"Desi\",\"Quantity\":100},\n",
        "      10017 : {\"itm_name\": \"Salt\" , \"itm_price\": 20, \"weight\" : 1000,\"itm_company\":\"Tata\",\"Quantity\":500},\n",
        "      10018 : {\"itm_name\": \"Raisins\" , \"itm_price\": 500, \"weight\" : 1000,\"itm_company\":\"Vedaka\",\"Quantity\":100},\n",
        "      10019 : {\"itm_name\": \"Kaju\" , \"itm_price\": 1000, \"weight\" : 1000,\"itm_company\":\"Vedaka\",\"Quantity\":50},\n",
        "      10020 : {\"itm_name\": \"Toothpaste\" , \"itm_price\": 100, \"weight\" : 200,\"itm_company\":\"Colgate\",\"Quantity\":100},\n",
        "      10021 : {\"itm_name\": \"Toothbrash\" , \"itm_price\": 20, \"weight\" : 1,\"itm_company\":\"Syansodyne\",\"Quantity\":100},\n",
        "      10022 : {\"itm_name\": \"Shampoo\" , \"itm_price\": 120, \"weight\" : 200,\"itm_company\":\"Clinic Plus\",\"Quantity\":100},\n",
        "      10023 : {\"itm_name\": \"Shop\" , \"itm_price\": 30, \"weight\" : 100,\"itm_company\":\"Dove\",\"Quantity\":100},\n",
        "      10024 : {\"itm_name\": \"Detergent\" , \"itm_price\": 150, \"weight\" : 200,\"itm_company\":\"Tide\",\"Quantity\":200},\n",
        "      10025 : {\"itm_name\": \"Tea\" , \"itm_price\": 250, \"weight\" : 500,\"itm_company\":\"Tata gold\",\"Quantity\":100},\n",
        "      10026 : {\"itm_name\": \"Coffee\" , \"itm_price\": 100, \"weight\" : 100,\"itm_company\":\"Neslea\",\"Quantity\":100},\n",
        "      10027 : {\"itm_name\": \"Handwash\" , \"itm_price\": 20, \"weight\" : 100,\"itm_company\":\"Dettol\",\"Quantity\":50},\n",
        "      10028 : {\"itm_name\": \"Toilet Cleaner\" , \"itm_price\": 300, \"weight\" : 1000,\"itm_company\":\"Harpic\",\"Quantity\":100},\n",
        "      10029 : {\"itm_name\": \"Chocolate\" , \"itm_price\": 10, \"weight\" : 1,\"itm_company\":\"Kitkat\",\"Quantity\":50},\n",
        "      10030 : {\"itm_name\": \"Hajmola\" , \"itm_price\": 45, \"weight\" : 1,\"itm_company\":\"Dabur\",\"Quantity\":50},\n",
        "      10031 : {\"itm_name\": \"Dish wash\" , \"itm_price\": 20, \"weight\" : 1,\"itm_company\":\"Sunlight\",\"Quantity\":100},\n",
        "      10032 : {\"itm_name\": \"Honey\" , \"itm_price\": 250, \"weight\" : 500,\"itm_company\":\"Dabur\",\"Quantity\":100},\n",
        "      10033 : {\"itm_name\": \"Milkmaid\" , \"itm_price\": 125, \"weight\" : 500,\"itm_company\":\"Nestle\",\"Quantity\":50},\n",
        "      10034 : {\"itm_name\": \"Noodles\" , \"itm_price\": 60, \"weight\" : 400,\"itm_company\":\"Maggi\",\"Quantity\":100}}"
      ],
      "execution_count": 1,
      "outputs": []
    },
    {
      "cell_type": "code",
      "metadata": {
        "id": "VceMBCqnGq6f"
      },
      "source": [
        "Product_details[10021]['Quantity'] = 94\n",
        "Product_details[10014]['Quantity'] = 88\n",
        "Product_details[10033]['Quantity'] = 41\n",
        "Product_details[10026]['Quantity'] = 90"
      ],
      "execution_count": 7,
      "outputs": []
    },
    {
      "cell_type": "code",
      "metadata": {
        "colab": {
          "base_uri": "https://localhost:8080/"
        },
        "id": "Zc7Qxx6JHQ5p",
        "outputId": "26f1133d-73b2-4e32-fb95-fdead8e540b0"
      },
      "source": [
        "Product_details"
      ],
      "execution_count": 8,
      "outputs": [
        {
          "output_type": "execute_result",
          "data": {
            "text/plain": [
              "{10001: {'Quantity': 100,\n",
              "  'itm_company': 'Goodday',\n",
              "  'itm_name': 'Goodday Biscuit',\n",
              "  'itm_price': 5,\n",
              "  'weight': 100},\n",
              " 10002: {'Quantity': 100,\n",
              "  'itm_company': 'Coco',\n",
              "  'itm_name': 'crime Biscuit',\n",
              "  'itm_price': 5,\n",
              "  'weight': 100},\n",
              " 10003: {'Quantity': 50,\n",
              "  'itm_company': 'Britenia',\n",
              "  'itm_name': 'Britenia Biscuit',\n",
              "  'itm_price': 25,\n",
              "  'weight': 220},\n",
              " 10004: {'Quantity': 50,\n",
              "  'itm_company': 'Craker',\n",
              "  'itm_name': 'Crimecraker Biscuit',\n",
              "  'itm_price': 22,\n",
              "  'weight': 200},\n",
              " 10005: {'Quantity': 40,\n",
              "  'itm_company': 'ITC',\n",
              "  'itm_name': 'kurkurra',\n",
              "  'itm_price': 5,\n",
              "  'weight': 10},\n",
              " 10006: {'Quantity': 40,\n",
              "  'itm_company': 'ITC',\n",
              "  'itm_name': 'Lays',\n",
              "  'itm_price': 5,\n",
              "  'weight': 12},\n",
              " 10007: {'Quantity': 500,\n",
              "  'itm_company': 'Farmars',\n",
              "  'itm_name': 'Rice',\n",
              "  'itm_price': 40,\n",
              "  'weight': 1000},\n",
              " 10008: {'Quantity': 100,\n",
              "  'itm_company': 'India Gate',\n",
              "  'itm_name': 'India Gate Rice',\n",
              "  'itm_price': 70,\n",
              "  'weight': 1000},\n",
              " 10009: {'Quantity': 500,\n",
              "  'itm_company': 'Desi',\n",
              "  'itm_name': 'Mug Dal',\n",
              "  'itm_price': 100,\n",
              "  'weight': 1000},\n",
              " 10010: {'Quantity': 500,\n",
              "  'itm_company': 'Desi',\n",
              "  'itm_name': 'Musur Dal',\n",
              "  'itm_price': 120,\n",
              "  'weight': 1000},\n",
              " 10011: {'Quantity': 500,\n",
              "  'itm_company': 'Desi',\n",
              "  'itm_name': 'Arhoor Dal',\n",
              "  'itm_price': 150,\n",
              "  'weight': 1000},\n",
              " 10012: {'Quantity': 500,\n",
              "  'itm_company': 'Desi',\n",
              "  'itm_name': 'Whate',\n",
              "  'itm_price': 80,\n",
              "  'weight': 1000},\n",
              " 10013: {'Quantity': 50,\n",
              "  'itm_company': 'Fortune',\n",
              "  'itm_name': 'Soyabin Oil',\n",
              "  'itm_price': 180,\n",
              "  'weight': 1000},\n",
              " 10014: {'Quantity': 88,\n",
              "  'itm_company': 'Fortune',\n",
              "  'itm_name': 'Rice ban Oil',\n",
              "  'itm_price': 175,\n",
              "  'weight': 1000},\n",
              " 10015: {'Quantity': 100,\n",
              "  'itm_company': 'Fortune',\n",
              "  'itm_name': 'Kachi ghani Oil',\n",
              "  'itm_price': 200,\n",
              "  'weight': 1000},\n",
              " 10016: {'Quantity': 100,\n",
              "  'itm_company': 'Desi',\n",
              "  'itm_name': 'White Flour',\n",
              "  'itm_price': 50,\n",
              "  'weight': 1000},\n",
              " 10017: {'Quantity': 500,\n",
              "  'itm_company': 'Tata',\n",
              "  'itm_name': 'Salt',\n",
              "  'itm_price': 20,\n",
              "  'weight': 1000},\n",
              " 10018: {'Quantity': 100,\n",
              "  'itm_company': 'Vedaka',\n",
              "  'itm_name': 'Raisins',\n",
              "  'itm_price': 500,\n",
              "  'weight': 1000},\n",
              " 10019: {'Quantity': 50,\n",
              "  'itm_company': 'Vedaka',\n",
              "  'itm_name': 'Kaju',\n",
              "  'itm_price': 1000,\n",
              "  'weight': 1000},\n",
              " 10020: {'Quantity': 100,\n",
              "  'itm_company': 'Colgate',\n",
              "  'itm_name': 'Toothpaste',\n",
              "  'itm_price': 100,\n",
              "  'weight': 200},\n",
              " 10021: {'Quantity': 94,\n",
              "  'itm_company': 'Syansodyne',\n",
              "  'itm_name': 'Toothbrash',\n",
              "  'itm_price': 20,\n",
              "  'weight': 1},\n",
              " 10022: {'Quantity': 100,\n",
              "  'itm_company': 'Clinic Plus',\n",
              "  'itm_name': 'Shampoo',\n",
              "  'itm_price': 120,\n",
              "  'weight': 200},\n",
              " 10023: {'Quantity': 100,\n",
              "  'itm_company': 'Dove',\n",
              "  'itm_name': 'Shop',\n",
              "  'itm_price': 30,\n",
              "  'weight': 100},\n",
              " 10024: {'Quantity': 200,\n",
              "  'itm_company': 'Tide',\n",
              "  'itm_name': 'Detergent',\n",
              "  'itm_price': 150,\n",
              "  'weight': 200},\n",
              " 10025: {'Quantity': 100,\n",
              "  'itm_company': 'Tata gold',\n",
              "  'itm_name': 'Tea',\n",
              "  'itm_price': 250,\n",
              "  'weight': 500},\n",
              " 10026: {'Quantity': 90,\n",
              "  'itm_company': 'Neslea',\n",
              "  'itm_name': 'Coffee',\n",
              "  'itm_price': 100,\n",
              "  'weight': 100},\n",
              " 10027: {'Quantity': 50,\n",
              "  'itm_company': 'Dettol',\n",
              "  'itm_name': 'Handwash',\n",
              "  'itm_price': 20,\n",
              "  'weight': 100},\n",
              " 10028: {'Quantity': 100,\n",
              "  'itm_company': 'Harpic',\n",
              "  'itm_name': 'Toilet Cleaner',\n",
              "  'itm_price': 300,\n",
              "  'weight': 1000},\n",
              " 10029: {'Quantity': 50,\n",
              "  'itm_company': 'Kitkat',\n",
              "  'itm_name': 'Chocolate',\n",
              "  'itm_price': 10,\n",
              "  'weight': 1},\n",
              " 10030: {'Quantity': 50,\n",
              "  'itm_company': 'Dabur',\n",
              "  'itm_name': 'Hajmola',\n",
              "  'itm_price': 45,\n",
              "  'weight': 1},\n",
              " 10031: {'Quantity': 100,\n",
              "  'itm_company': 'Sunlight',\n",
              "  'itm_name': 'Dish wash',\n",
              "  'itm_price': 20,\n",
              "  'weight': 1},\n",
              " 10032: {'Quantity': 100,\n",
              "  'itm_company': 'Dabur',\n",
              "  'itm_name': 'Honey',\n",
              "  'itm_price': 250,\n",
              "  'weight': 500},\n",
              " 10033: {'Quantity': 41,\n",
              "  'itm_company': 'Nestle',\n",
              "  'itm_name': 'Milkmaid',\n",
              "  'itm_price': 125,\n",
              "  'weight': 500},\n",
              " 10034: {'Quantity': 100,\n",
              "  'itm_company': 'Maggi',\n",
              "  'itm_name': 'Noodles',\n",
              "  'itm_price': 60,\n",
              "  'weight': 400}}"
            ]
          },
          "metadata": {},
          "execution_count": 8
        }
      ]
    },
    {
      "cell_type": "code",
      "metadata": {
        "id": "-sNcSqbRAZ2J"
      },
      "source": [
        "import json"
      ],
      "execution_count": 2,
      "outputs": []
    },
    {
      "cell_type": "code",
      "metadata": {
        "id": "XAiPJqaUAsN2"
      },
      "source": [
        "js = json.dumps(Product_details)"
      ],
      "execution_count": 3,
      "outputs": []
    },
    {
      "cell_type": "code",
      "metadata": {
        "colab": {
          "base_uri": "https://localhost:8080/",
          "height": 171
        },
        "id": "DZ0HFC8qAwXP",
        "outputId": "2d6f9254-b782-4c66-aff6-b3a167c95e88"
      },
      "source": [
        "js"
      ],
      "execution_count": 4,
      "outputs": [
        {
          "output_type": "execute_result",
          "data": {
            "application/vnd.google.colaboratory.intrinsic+json": {
              "type": "string"
            },
            "text/plain": [
              "'{\"10001\": {\"itm_name\": \"Goodday Biscuit\", \"itm_price\": 5, \"weight\": 100, \"itm_company\": \"Goodday\", \"Quantity\": 100}, \"10002\": {\"itm_name\": \"crime Biscuit\", \"itm_price\": 5, \"weight\": 100, \"itm_company\": \"Coco\", \"Quantity\": 100}, \"10003\": {\"itm_name\": \"Britenia Biscuit\", \"itm_price\": 25, \"weight\": 220, \"itm_company\": \"Britenia\", \"Quantity\": 50}, \"10004\": {\"itm_name\": \"Crimecraker Biscuit\", \"itm_price\": 22, \"weight\": 200, \"itm_company\": \"Craker\", \"Quantity\": 50}, \"10005\": {\"itm_name\": \"kurkurra\", \"itm_price\": 5, \"weight\": 10, \"itm_company\": \"ITC\", \"Quantity\": 40}, \"10006\": {\"itm_name\": \"Lays\", \"itm_price\": 5, \"weight\": 12, \"itm_company\": \"ITC\", \"Quantity\": 40}, \"10007\": {\"itm_name\": \"Rice\", \"itm_price\": 40, \"weight\": 1000, \"itm_company\": \"Farmars\", \"Quantity\": 500}, \"10008\": {\"itm_name\": \"India Gate Rice\", \"itm_price\": 70, \"weight\": 1000, \"itm_company\": \"India Gate\", \"Quantity\": 100}, \"10009\": {\"itm_name\": \"Mug Dal\", \"itm_price\": 100, \"weight\": 1000, \"itm_company\": \"Desi\", \"Quantity\": 500}, \"10010\": {\"itm_name\": \"Musur Dal\", \"itm_price\": 120, \"weight\": 1000, \"itm_company\": \"Desi\", \"Quantity\": 500}, \"10011\": {\"itm_name\": \"Arhoor Dal\", \"itm_price\": 150, \"weight\": 1000, \"itm_company\": \"Desi\", \"Quantity\": 500}, \"10012\": {\"itm_name\": \"Whate\", \"itm_price\": 80, \"weight\": 1000, \"itm_company\": \"Desi\", \"Quantity\": 500}, \"10013\": {\"itm_name\": \"Soyabin Oil\", \"itm_price\": 180, \"weight\": 1000, \"itm_company\": \"Fortune\", \"Quantity\": 50}, \"10014\": {\"itm_name\": \"Rice ban Oil\", \"itm_price\": 175, \"weight\": 1000, \"itm_company\": \"Fortune\", \"Quantity\": 100}, \"10015\": {\"itm_name\": \"Kachi ghani Oil\", \"itm_price\": 200, \"weight\": 1000, \"itm_company\": \"Fortune\", \"Quantity\": 100}, \"10016\": {\"itm_name\": \"White Flour\", \"itm_price\": 50, \"weight\": 1000, \"itm_company\": \"Desi\", \"Quantity\": 100}, \"10017\": {\"itm_name\": \"Salt\", \"itm_price\": 20, \"weight\": 1000, \"itm_company\": \"Tata\", \"Quantity\": 500}, \"10018\": {\"itm_name\": \"Raisins\", \"itm_price\": 500, \"weight\": 1000, \"itm_company\": \"Vedaka\", \"Quantity\": 100}, \"10019\": {\"itm_name\": \"Kaju\", \"itm_price\": 1000, \"weight\": 1000, \"itm_company\": \"Vedaka\", \"Quantity\": 50}, \"10020\": {\"itm_name\": \"Toothpaste\", \"itm_price\": 100, \"weight\": 200, \"itm_company\": \"Colgate\", \"Quantity\": 100}, \"10021\": {\"itm_name\": \"Toothbrash\", \"itm_price\": 20, \"weight\": 1, \"itm_company\": \"Syansodyne\", \"Quantity\": 100}, \"10022\": {\"itm_name\": \"Shampoo\", \"itm_price\": 120, \"weight\": 200, \"itm_company\": \"Clinic Plus\", \"Quantity\": 100}, \"10023\": {\"itm_name\": \"Shop\", \"itm_price\": 30, \"weight\": 100, \"itm_company\": \"Dove\", \"Quantity\": 100}, \"10024\": {\"itm_name\": \"Detergent\", \"itm_price\": 150, \"weight\": 200, \"itm_company\": \"Tide\", \"Quantity\": 200}, \"10025\": {\"itm_name\": \"Tea\", \"itm_price\": 250, \"weight\": 500, \"itm_company\": \"Tata gold\", \"Quantity\": 100}, \"10026\": {\"itm_name\": \"Coffee\", \"itm_price\": 100, \"weight\": 100, \"itm_company\": \"Neslea\", \"Quantity\": 100}, \"10027\": {\"itm_name\": \"Handwash\", \"itm_price\": 20, \"weight\": 100, \"itm_company\": \"Dettol\", \"Quantity\": 50}, \"10028\": {\"itm_name\": \"Toilet Cleaner\", \"itm_price\": 300, \"weight\": 1000, \"itm_company\": \"Harpic\", \"Quantity\": 100}, \"10029\": {\"itm_name\": \"Chocolate\", \"itm_price\": 10, \"weight\": 1, \"itm_company\": \"Kitkat\", \"Quantity\": 50}, \"10030\": {\"itm_name\": \"Hajmola\", \"itm_price\": 45, \"weight\": 1, \"itm_company\": \"Dabur\", \"Quantity\": 50}, \"10031\": {\"itm_name\": \"Dish wash\", \"itm_price\": 20, \"weight\": 1, \"itm_company\": \"Sunlight\", \"Quantity\": 100}, \"10032\": {\"itm_name\": \"Honey\", \"itm_price\": 250, \"weight\": 500, \"itm_company\": \"Dabur\", \"Quantity\": 100}, \"10033\": {\"itm_name\": \"Milkmaid\", \"itm_price\": 125, \"weight\": 500, \"itm_company\": \"Nestle\", \"Quantity\": 50}, \"10034\": {\"itm_name\": \"Noodles\", \"itm_price\": 60, \"weight\": 400, \"itm_company\": \"Maggi\", \"Quantity\": 100}}'"
            ]
          },
          "metadata": {},
          "execution_count": 4
        }
      ]
    },
    {
      "cell_type": "code",
      "metadata": {
        "id": "vxz6VcnZA18n"
      },
      "source": [
        "fd = open(\"Product_details.txt\",\"w\")\n",
        "txt = fd.write(js)\n",
        "fd.close()"
      ],
      "execution_count": 5,
      "outputs": []
    },
    {
      "cell_type": "code",
      "metadata": {
        "id": "Fxfmi_3rGTyC"
      },
      "source": [
        "fd = open(\"Product_details.txt\",'r')\n",
        "\n",
        "txt = fd.read()\n",
        "\n",
        "fd.close()"
      ],
      "execution_count": 6,
      "outputs": []
    }
  ]
}